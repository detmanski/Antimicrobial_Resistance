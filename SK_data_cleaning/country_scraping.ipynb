{
 "cells": [
  {
   "cell_type": "code",
   "execution_count": 1,
   "metadata": {},
   "outputs": [],
   "source": [
    "## Imports\n",
    "from splinter import Browser\n",
    "from bs4 import BeautifulSoup as soup\n",
    "from pprint import pprint\n",
    "import pandas as pd"
   ]
  },
  {
   "attachments": {},
   "cell_type": "markdown",
   "metadata": {},
   "source": [
    "Source:\n",
    "https://ghdx.healthdata.org/countries"
   ]
  },
  {
   "cell_type": "code",
   "execution_count": 2,
   "metadata": {},
   "outputs": [],
   "source": [
    "## Web Scraping:\n",
    "# Set up Splinter\n",
    "browser = Browser('chrome')\n",
    "\n",
    "# Visit the IHME site with regions and countries\n",
    "url = 'https://ghdx.healthdata.org/countries'\n",
    "browser.visit(url)\n",
    "\n",
    "# Scrape the website\n",
    "html = browser.html\n",
    "\n",
    "# Create a BeautifulSoup object from the scraped HTML\n",
    "countries_page = soup(html, 'html.parser')\n",
    "\n",
    "# Get the container with relevant data\n",
    "all_columns = countries_page.find('div', class_='view')\n",
    "\n",
    "# List with html classes containing desired data\n",
    "columns = [\"country-col1\",\"country-col2\",\"country-col3\"]\n",
    "\n",
    "# Sets up a dictionary to hold which countries belong to which regions\n",
    "regions_with_countries = []\n",
    "\n",
    "# Loops through list of html sections \n",
    "for column in columns:\n",
    "    # Grabs the html section of interest\n",
    "    html_column = all_columns.find(\"div\", class_=column)\n",
    "    # Sets up empty lists to hold the region names and the lists of countries in each region\n",
    "    regions = []\n",
    "    # country_lists = []\n",
    "    # Scrapes each region name from the html and appends them to the list of regions\n",
    "    for region in html_column.findAll(\"h3\"):\n",
    "        regions.append(region.text)\n",
    "    # Sets up a counter to keep track of regions\n",
    "    region_counter = 0\n",
    "    # Scrapes lists of the countries in each region and appends them to the list of country lists\n",
    "    for country_set in html_column.findAll(\"ul\"):\n",
    "        countries_temp = country_set.findAll(\"a\")\n",
    "        country_list = []\n",
    "        for country in countries_temp:\n",
    "            pair = {}\n",
    "            pair['country'] = country.text.split(\" (\")[0]\n",
    "            pair['region'] = regions[region_counter]\n",
    "            regions_with_countries.append(pair)\n",
    "        region_counter += 1\n",
    "        \n",
    "# Quits the browsing session\n",
    "browser.quit()"
   ]
  },
  {
   "cell_type": "code",
   "execution_count": 3,
   "metadata": {},
   "outputs": [],
   "source": [
    "# Makes a DataFrame of country/ region pairs\n",
    "df = pd.DataFrame(regions_with_countries)\n",
    "\n",
    "# Creates a country ID column\n",
    "df.insert(0, 'id', range(1,1+len(df)))\n",
    "\n",
    "# Establishes the base filepath to find and write the data\n",
    "## NOTE: This will be different for each computer\n",
    "filepath = \"C:/Users/kronh/OneDrive/Documents/UofTCoding_bootcamp/project_3_data\"\n",
    "\n",
    "# Imports the regions csv in order to add a region id column to the countries DataFrame\n",
    "regions_df = pd.read_csv(f\"{filepath}/data_csv/regions.csv\")\n",
    "\n",
    "# joins the DataFrames to add a region_ID to the countries DataFrame\n",
    "joined_df = df.merge(regions_df, how='left', on='region')\n",
    "\n",
    "# Renames the id columns\n",
    "joined_df.rename(columns={'id_x':'id', 'id_y':'region_id'}, inplace=True)\n",
    "\n",
    "# Removes the region column\n",
    "joined_df.drop(axis=0, columns='region', inplace=True)\n",
    "\n",
    "# Reorganizes the DataFrame so the PK comes first (id) and the FK comes next (region_id)\n",
    "joined_df = joined_df[['id', 'region_id', 'country']]\n",
    "\n",
    "# Exports the final DataFrame to a csv for input into a database\n",
    "joined_df.to_csv(f\"{filepath}/data_csv/countries.csv\", index=False)"
   ]
  }
 ],
 "metadata": {
  "kernelspec": {
   "display_name": "base",
   "language": "python",
   "name": "python3"
  },
  "language_info": {
   "codemirror_mode": {
    "name": "ipython",
    "version": 3
   },
   "file_extension": ".py",
   "mimetype": "text/x-python",
   "name": "python",
   "nbconvert_exporter": "python",
   "pygments_lexer": "ipython3",
   "version": "3.9.13"
  },
  "orig_nbformat": 4
 },
 "nbformat": 4,
 "nbformat_minor": 2
}
