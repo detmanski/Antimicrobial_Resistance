{
 "cells": [
  {
   "cell_type": "code",
   "execution_count": 1,
   "metadata": {},
   "outputs": [],
   "source": [
    "# Imports\n",
    "import pandas as pd"
   ]
  },
  {
   "cell_type": "code",
   "execution_count": 2,
   "metadata": {},
   "outputs": [],
   "source": [
    "# Establishes the base filepath to find and write the data\n",
    "## NOTE: This will be different for each computer\n",
    "filepath = \"C:/Users/kronh/OneDrive/Documents/UofTCoding_bootcamp/project_3_data\""
   ]
  },
  {
   "cell_type": "code",
   "execution_count": 3,
   "metadata": {},
   "outputs": [],
   "source": [
    "# get all csv files of data\n",
    "countries = pd.read_csv(f\"{filepath}/data_csv/countries.csv\")\n",
    "regions = pd.read_csv(f\"{filepath}/data_csv/regions.csv\")\n",
    "spending = pd.read_csv(f\"{filepath}/data_csv/spending_pop.csv\")\n",
    "amr_data = pd.read_csv(f\"{filepath}/data_csv/IHME_AMR_BURDEN_2019_RATE_SK.csv\")"
   ]
  },
  {
   "cell_type": "code",
   "execution_count": 4,
   "metadata": {},
   "outputs": [],
   "source": [
    "# Convert all files to json and export them to the data_json folder\n",
    "countries.to_json(f\"{filepath}/data_json/countries.json\")\n",
    "regions.to_json(f\"{filepath}/data_json/regions.json\")\n",
    "spending.to_json(f\"{filepath}/data_json/spending_pop.json\")\n",
    "amr_data.to_json(f\"{filepath}/data_json/amr.json\")"
   ]
  }
 ],
 "metadata": {
  "kernelspec": {
   "display_name": "base",
   "language": "python",
   "name": "python3"
  },
  "language_info": {
   "codemirror_mode": {
    "name": "ipython",
    "version": 3
   },
   "file_extension": ".py",
   "mimetype": "text/x-python",
   "name": "python",
   "nbconvert_exporter": "python",
   "pygments_lexer": "ipython3",
   "version": "3.9.13"
  },
  "orig_nbformat": 4
 },
 "nbformat": 4,
 "nbformat_minor": 2
}
