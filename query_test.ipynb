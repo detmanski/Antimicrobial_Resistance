{
 "cells": [
  {
   "cell_type": "code",
   "execution_count": 10,
   "metadata": {},
   "outputs": [],
   "source": [
    "# Imports\n",
    "from sqlalchemy.orm import Session\n",
    "from sqlalchemy import create_engine, func, inspect\n",
    "from sqlalchemy.ext.automap import automap_base"
   ]
  },
  {
   "cell_type": "code",
   "execution_count": 12,
   "metadata": {},
   "outputs": [
    {
     "name": "stderr",
     "output_type": "stream",
     "text": [
      "C:\\Users\\kronh\\AppData\\Local\\Temp\\ipykernel_24988\\2952481160.py:11: SADeprecationWarning: The AutomapBase.prepare.reflect parameter is deprecated and will be removed in a future release.  Reflection is enabled when AutomapBase.prepare.autoload_with is passed.\n",
      "  Base.prepare(engine, reflect=True)\n"
     ]
    }
   ],
   "source": [
    "# Establishes the base filepath to find and write the data\n",
    "## NOTE: This will be different for each computer\n",
    "filepath = \"C:/Users/kronh/OneDrive/Documents/UofTCoding_bootcamp/project_3_data\"\n",
    "\n",
    "# Create engine using the 'amr.sqlite' database file\n",
    "engine = create_engine(f\"sqlite:///{filepath}/database/amr.sqlite\")\n",
    "\n",
    "# Reflect an existing database into a new model\n",
    "Base = automap_base()\n",
    "# Reflect the tables\n",
    "Base.prepare(engine, reflect=True)\n",
    "\n",
    "# Save references to the tables\n",
    "Regions = Base.classes.regions\n",
    "Countries = Base.classes.countries\n",
    "SpendingPopulation = Base.classes.spending_pop\n",
    "AMR_data = Base.classes.amr_data\n",
    "\n",
    "# Create our session from Python to the DB\n",
    "session = Session(engine)"
   ]
  },
  {
   "cell_type": "code",
   "execution_count": 22,
   "metadata": {},
   "outputs": [
    {
     "name": "stdout",
     "output_type": "stream",
     "text": [
      "[{'id': 1, 'country': 'Bolivia'}, {'id': 2, 'country': 'Ecuador'}, {'id': 3, 'country': 'Peru'}, {'id': 4, 'country': 'Australia'}, {'id': 5, 'country': 'New Zealand'}, {'id': 6, 'country': 'Antigua and Barbuda'}, {'id': 7, 'country': 'Bahamas'}, {'id': 8, 'country': 'Barbados'}, {'id': 9, 'country': 'Belize'}, {'id': 10, 'country': 'Cuba'}, {'id': 11, 'country': 'Dominica'}, {'id': 12, 'country': 'Dominican Republic'}, {'id': 13, 'country': 'Grenada'}, {'id': 14, 'country': 'Guyana'}, {'id': 15, 'country': 'Haiti'}, {'id': 16, 'country': 'Jamaica'}, {'id': 17, 'country': 'Saint Kitts and Nevis'}, {'id': 18, 'country': 'Saint Lucia'}, {'id': 19, 'country': 'Saint Vincent and the Grenadines'}, {'id': 20, 'country': 'Suriname'}, {'id': 21, 'country': 'Trinidad and Tobago'}, {'id': 22, 'country': 'Armenia'}, {'id': 23, 'country': 'Azerbaijan'}, {'id': 24, 'country': 'Georgia'}, {'id': 25, 'country': 'Kazakhstan'}, {'id': 26, 'country': 'Kyrgyzstan'}, {'id': 27, 'country': 'Mongolia'}, {'id': 28, 'country': 'Tajikistan'}, {'id': 29, 'country': 'Turkmenistan'}, {'id': 30, 'country': 'Uzbekistan'}, {'id': 31, 'country': 'Albania'}, {'id': 32, 'country': 'Bosnia and Herzegovina'}, {'id': 33, 'country': 'Bulgaria'}, {'id': 34, 'country': 'Croatia'}, {'id': 35, 'country': 'Czechia'}, {'id': 36, 'country': 'Hungary'}, {'id': 37, 'country': 'Kosovo'}, {'id': 38, 'country': 'Montenegro'}, {'id': 39, 'country': 'North Macedonia'}, {'id': 40, 'country': 'Poland'}, {'id': 41, 'country': 'Romania'}, {'id': 42, 'country': 'Serbia'}, {'id': 43, 'country': 'Slovakia'}, {'id': 44, 'country': 'Slovenia'}, {'id': 45, 'country': 'Colombia'}, {'id': 46, 'country': 'Costa Rica'}, {'id': 47, 'country': 'El Salvador'}, {'id': 48, 'country': 'Guatemala'}, {'id': 49, 'country': 'Honduras'}, {'id': 50, 'country': 'Mexico'}, {'id': 51, 'country': 'Nicaragua'}, {'id': 52, 'country': 'Panama'}, {'id': 53, 'country': 'Venezuela'}, {'id': 54, 'country': 'Angola'}, {'id': 55, 'country': 'Central African Republic'}, {'id': 56, 'country': 'Congo'}, {'id': 57, 'country': 'Democratic Republic of the Congo'}, {'id': 58, 'country': 'Equatorial Guinea'}, {'id': 59, 'country': 'Gabon'}, {'id': 60, 'country': 'China'}, {'id': 61, 'country': \"Democratic People's Republic of Korea\"}, {'id': 62, 'country': 'Taiwan'}, {'id': 63, 'country': 'Belarus'}, {'id': 64, 'country': 'Estonia'}, {'id': 65, 'country': 'Latvia'}, {'id': 66, 'country': 'Lithuania'}, {'id': 67, 'country': 'Republic of Moldova'}, {'id': 68, 'country': 'Russian Federation'}, {'id': 69, 'country': 'Ukraine'}, {'id': 70, 'country': 'Burundi'}, {'id': 71, 'country': 'Comoros'}, {'id': 72, 'country': 'Djibouti'}, {'id': 73, 'country': 'Eritrea'}, {'id': 74, 'country': 'Ethiopia'}, {'id': 75, 'country': 'Kenya'}, {'id': 76, 'country': 'Madagascar'}, {'id': 77, 'country': 'Malawi'}, {'id': 78, 'country': 'Mozambique'}, {'id': 79, 'country': 'Rwanda'}, {'id': 80, 'country': 'Somalia'}, {'id': 81, 'country': 'South Sudan'}, {'id': 82, 'country': 'Sudan'}, {'id': 83, 'country': 'Uganda'}, {'id': 84, 'country': 'United Republic of Tanzania'}, {'id': 85, 'country': 'Zambia'}, {'id': 86, 'country': 'Brunei Darussalam'}, {'id': 87, 'country': 'Japan'}, {'id': 88, 'country': 'Republic of Korea'}, {'id': 89, 'country': 'Singapore'}, {'id': 90, 'country': 'Canada'}, {'id': 91, 'country': 'United States of America'}, {'id': 92, 'country': 'Afghanistan'}, {'id': 93, 'country': 'Algeria'}, {'id': 94, 'country': 'Bahrain'}, {'id': 95, 'country': 'Egypt'}, {'id': 96, 'country': 'Iran'}, {'id': 97, 'country': 'Iraq'}, {'id': 98, 'country': 'Jordan'}, {'id': 99, 'country': 'Kuwait'}, {'id': 100, 'country': 'Lebanon'}, {'id': 101, 'country': 'Libya'}, {'id': 102, 'country': 'Morocco'}, {'id': 103, 'country': 'Oman'}, {'id': 104, 'country': 'Palestine'}, {'id': 105, 'country': 'Qatar'}, {'id': 106, 'country': 'Saudi Arabia'}, {'id': 107, 'country': 'Syrian Arab Republic'}, {'id': 108, 'country': 'Tunisia'}, {'id': 109, 'country': 'TÃ¼rkiye'}, {'id': 110, 'country': 'United Arab Emirates'}, {'id': 111, 'country': 'Western Sahara'}, {'id': 112, 'country': 'Yemen'}, {'id': 113, 'country': 'Fiji'}, {'id': 114, 'country': 'Kiribati'}, {'id': 115, 'country': 'Marshall Islands'}, {'id': 116, 'country': 'Micronesia'}, {'id': 117, 'country': 'Nauru'}, {'id': 118, 'country': 'Niue'}, {'id': 119, 'country': 'Palau'}, {'id': 120, 'country': 'Papua New Guinea'}, {'id': 121, 'country': 'Samoa'}, {'id': 122, 'country': 'Solomon Islands'}, {'id': 123, 'country': 'Tonga'}, {'id': 124, 'country': 'Tuvalu'}, {'id': 125, 'country': 'Vanuatu'}, {'id': 126, 'country': 'Bangladesh'}, {'id': 127, 'country': 'Bhutan'}, {'id': 128, 'country': 'India'}, {'id': 129, 'country': 'Nepal'}, {'id': 130, 'country': 'Pakistan'}, {'id': 131, 'country': 'Cambodia'}, {'id': 132, 'country': 'Indonesia'}, {'id': 133, 'country': \"Lao People's Democratic Republic\"}, {'id': 134, 'country': 'Malaysia'}, {'id': 135, 'country': 'Maldives'}, {'id': 136, 'country': 'Mauritius'}, {'id': 137, 'country': 'Myanmar'}, {'id': 138, 'country': 'Philippines'}, {'id': 139, 'country': 'Seychelles'}, {'id': 140, 'country': 'Sri Lanka'}, {'id': 141, 'country': 'Thailand'}, {'id': 142, 'country': 'Timor-Leste'}, {'id': 143, 'country': 'Viet Nam'}, {'id': 144, 'country': 'Argentina'}, {'id': 145, 'country': 'Chile'}, {'id': 146, 'country': 'Uruguay'}, {'id': 147, 'country': 'Botswana'}, {'id': 148, 'country': 'Eswatini'}, {'id': 149, 'country': 'Lesotho'}, {'id': 150, 'country': 'Namibia'}, {'id': 151, 'country': 'South Africa'}, {'id': 152, 'country': 'Zimbabwe'}, {'id': 153, 'country': 'Brazil'}, {'id': 154, 'country': 'Paraguay'}, {'id': 155, 'country': 'Andorra'}, {'id': 156, 'country': 'Austria'}, {'id': 157, 'country': 'Belgium'}, {'id': 158, 'country': 'Cyprus'}, {'id': 159, 'country': 'Denmark'}, {'id': 160, 'country': 'Finland'}, {'id': 161, 'country': 'France'}, {'id': 162, 'country': 'Germany'}, {'id': 163, 'country': 'Greece'}, {'id': 164, 'country': 'Guernsey'}, {'id': 165, 'country': 'Iceland'}, {'id': 166, 'country': 'Ireland'}, {'id': 167, 'country': 'Isle of Man'}, {'id': 168, 'country': 'Israel'}, {'id': 169, 'country': 'Italy'}, {'id': 170, 'country': 'Jersey'}, {'id': 171, 'country': 'Liechtenstein'}, {'id': 172, 'country': 'Luxembourg'}, {'id': 173, 'country': 'Malta'}, {'id': 174, 'country': 'Monaco'}, {'id': 175, 'country': 'Netherlands'}, {'id': 176, 'country': 'Norway'}, {'id': 177, 'country': 'Portugal'}, {'id': 178, 'country': 'San Marino'}, {'id': 179, 'country': 'Spain'}, {'id': 180, 'country': 'Sweden'}, {'id': 181, 'country': 'Switzerland'}, {'id': 182, 'country': 'United Kingdom'}, {'id': 183, 'country': 'Vatican City'}, {'id': 184, 'country': 'Benin'}, {'id': 185, 'country': 'Burkina Faso'}, {'id': 186, 'country': 'Cabo Verde'}, {'id': 187, 'country': 'Cameroon'}, {'id': 188, 'country': 'Chad'}, {'id': 189, 'country': \"CÃ´te d'Ivoire\"}, {'id': 190, 'country': 'Gambia'}, {'id': 191, 'country': 'Ghana'}, {'id': 192, 'country': 'Guinea'}, {'id': 193, 'country': 'Guinea-Bissau'}, {'id': 194, 'country': 'Liberia'}, {'id': 195, 'country': 'Mali'}, {'id': 196, 'country': 'Mauritania'}, {'id': 197, 'country': 'Niger'}, {'id': 198, 'country': 'Nigeria'}, {'id': 199, 'country': 'Sao Tome and Principe'}, {'id': 200, 'country': 'Senegal'}, {'id': 201, 'country': 'Sierra Leone'}, {'id': 202, 'country': 'Togo'}]\n"
     ]
    }
   ],
   "source": [
    "## Query test - figure out how to return the data\n",
    "test = session.query(Countries).all()\n",
    "data_list = []\n",
    "for item in test:\n",
    "    row_dict = {}\n",
    "    row_dict['id'] = item.id\n",
    "    row_dict['country'] = item.country\n",
    "    data_list.append(row_dict)\n",
    "print(data_list)"
   ]
  }
 ],
 "metadata": {
  "kernelspec": {
   "display_name": "base",
   "language": "python",
   "name": "python3"
  },
  "language_info": {
   "codemirror_mode": {
    "name": "ipython",
    "version": 3
   },
   "file_extension": ".py",
   "mimetype": "text/x-python",
   "name": "python",
   "nbconvert_exporter": "python",
   "pygments_lexer": "ipython3",
   "version": "3.9.13"
  },
  "orig_nbformat": 4
 },
 "nbformat": 4,
 "nbformat_minor": 2
}
