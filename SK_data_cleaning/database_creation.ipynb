{
 "cells": [
  {
   "cell_type": "code",
   "execution_count": 1,
   "metadata": {},
   "outputs": [],
   "source": [
    "# Imports\n",
    "from sqlalchemy import create_engine\n",
    "import pandas as pd"
   ]
  },
  {
   "cell_type": "code",
   "execution_count": 2,
   "metadata": {},
   "outputs": [],
   "source": [
    "## Setup\n",
    "\n",
    "# Establishes the base filepath to find and write the data\n",
    "## NOTE: This will be different for each computer\n",
    "filepath = \"C:/Users/kronh/OneDrive/Documents/UofTCoding_bootcamp/project_3_data\"\n",
    "\n",
    "# Creates and connects with the database\n",
    "engine = create_engine(f'sqlite:///{filepath}/database/amr.sqlite')"
   ]
  },
  {
   "cell_type": "code",
   "execution_count": 3,
   "metadata": {},
   "outputs": [
    {
     "data": {
      "text/plain": [
       "923244"
      ]
     },
     "execution_count": 3,
     "metadata": {},
     "output_type": "execute_result"
    }
   ],
   "source": [
    "# get all csv files of data\n",
    "countries = pd.read_csv(f\"{filepath}/data_csv/countries.csv\")\n",
    "regions = pd.read_csv(f\"{filepath}/data_csv/regions.csv\")\n",
    "spending = pd.read_csv(f\"{filepath}/data_csv/spending_pop.csv\")\n",
    "amr_data = pd.read_csv(f\"{filepath}/data_csv/IHME_AMR_BURDEN_2019_RATE_SK.csv\")\n",
    "\n",
    "# Converts csvs to sqlite tables and adds them to the database\n",
    "countries.to_sql('countries', con=engine, index=False, if_exists='replace')\n",
    "regions.to_sql('regions', con=engine, index=False, if_exists='replace')\n",
    "spending.to_sql('spending_pop', con=engine, index=False, if_exists='replace')\n",
    "amr_data.to_sql('amr_data', con=engine, index=False, if_exists='replace')"
   ]
  }
 ],
 "metadata": {
  "kernelspec": {
   "display_name": "base",
   "language": "python",
   "name": "python3"
  },
  "language_info": {
   "codemirror_mode": {
    "name": "ipython",
    "version": 3
   },
   "file_extension": ".py",
   "mimetype": "text/x-python",
   "name": "python",
   "nbconvert_exporter": "python",
   "pygments_lexer": "ipython3",
   "version": "3.9.13"
  },
  "orig_nbformat": 4
 },
 "nbformat": 4,
 "nbformat_minor": 2
}
