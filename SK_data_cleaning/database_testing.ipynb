{
 "cells": [
  {
   "cell_type": "code",
   "execution_count": 1,
   "metadata": {},
   "outputs": [],
   "source": [
    "# Imports\n",
    "import sqlalchemy\n",
    "from sqlalchemy import Column, Integer, String, Float, ForeignKey\n",
    "from sqlalchemy.ext.declarative import declarative_base\n",
    "from sqlalchemy.orm import Session\n",
    "from sqlalchemy import create_engine\n",
    "from sqlalchemy import inspect\n",
    "from sqlalchemy import MetaData"
   ]
  },
  {
   "cell_type": "code",
   "execution_count": 2,
   "metadata": {},
   "outputs": [
    {
     "name": "stdout",
     "output_type": "stream",
     "text": [
      "East Asia\n",
      "Southeast Asia\n",
      "Oceania\n",
      "Central Asia\n",
      "Central Europe\n",
      "Eastern Europe\n",
      "High-income Asia Pacific\n",
      "Australasia\n",
      "Western Europe\n",
      "Southern Latin America\n",
      "High-income North America\n",
      "Caribbean\n",
      "Andean Latin America\n",
      "Central Latin America\n",
      "Tropical Latin America\n",
      "North Africa and Middle East\n",
      "South Asia\n",
      "Central Sub-Saharan Africa\n",
      "Eastern Sub-Saharan Africa\n",
      "Southern Sub-Saharan Africa\n",
      "Western Sub-Saharan Africa\n"
     ]
    }
   ],
   "source": [
    "# Establishes the base filepath to find and write the data\n",
    "## NOTE: This will be different for each computer\n",
    "filepath = \"C:/Users/kronh/OneDrive/Documents/UofTCoding_bootcamp/project_3_data\"\n",
    "\n",
    "# Create engine using the 'amr.sqlite' database file\n",
    "engine = create_engine(f\"sqlite:///{filepath}/database/amr.sqlite\")\n",
    "\n",
    "# Inspects the database\n",
    "inst = inspect(engine)\n",
    "# Gets table names\n",
    "inst.get_table_names()\n",
    "\n",
    "# Reflects the database metadata - tentatively replaces automap_base\n",
    "meta = MetaData()\n",
    "meta.reflect(bind=engine)\n",
    "\n",
    "# Assigns the regions table to a variable\n",
    "Regions = meta.tables['regions']\n",
    "# Establishes a session to connect with the database\n",
    "session = Session(bind=engine)\n",
    "# queries the regions table from the established variable\n",
    "regions = session.query(Regions)\n",
    "for item in regions:\n",
    "    print(item.region)\n"
   ]
  },
  {
   "cell_type": "code",
   "execution_count": 3,
   "metadata": {},
   "outputs": [
    {
     "name": "stderr",
     "output_type": "stream",
     "text": [
      "C:\\Users\\kronh\\AppData\\Local\\Temp\\ipykernel_15980\\1562935725.py:5: MovedIn20Warning: The ``declarative_base()`` function is now available as sqlalchemy.orm.declarative_base(). (deprecated since: 2.0) (Background on SQLAlchemy 2.0 at: https://sqlalche.me/e/b8d9)\n",
      "  Base = declarative_base()\n"
     ]
    }
   ],
   "source": [
    "## Generate tables/ classes \n",
    "# If reflection of the database does not work, the schema is below:\n",
    "\n",
    "# Sets up the Base class\n",
    "Base = declarative_base()\n",
    "\n",
    "# Regions\n",
    "class Regions(Base):\n",
    "    __tablename__ = 'regions'\n",
    "\n",
    "    id = Column(Integer, primary_key=True)\n",
    "    region = Column(String)\n",
    "\n",
    "# Countries\n",
    "class Countries(Base):\n",
    "    __tablename__ = 'countries'\n",
    "\n",
    "    id = Column(Integer, primary_key=True)\n",
    "    region_id = Column(Integer, ForeignKey(\"Regions.id\"))\n",
    "    country = Column(String)\n",
    "\n",
    "# Health spending\n",
    "class Spending_pop(Base):\n",
    "    __tablename__ = \"spending_population\"\n",
    "\n",
    "    id = Column(Integer, primary_key=True)\n",
    "    country_id = Column(Integer, ForeignKey(\"Countries.id\"))\n",
    "    region_id = Column(Integer, ForeignKey(\"Regions.id\"))\n",
    "    country = Column(String)\n",
    "    code = Column(String)\n",
    "    income = Column(String)\n",
    "    year = Column(Integer)\n",
    "    health_spending_mil_USD = Column(Float)\n",
    "    population_thousands = Column(Float)\n",
    "    health_spending_per_capita_USD = Column(Float)\n",
    "    \n",
    "# AMR data\n",
    "class AMR_data(Base):\n",
    "    __tablename__ = \"IHME_AMR_BURDEN_2019_RATE\"\n",
    "\n",
    "    id = Column(Integer, primary_key=True)\n",
    "    region_id = Column(Integer, ForeignKey(\"Regions.id\"))\n",
    "    measure_id = Column(Integer)\n",
    "    measure_name = Column(String)\n",
    "    location_id = Column(Integer)\n",
    "    location_name = Column(String)\n",
    "    sex_id = Column(Integer)\n",
    "    sex_name = Column(String)\n",
    "    age_group_id = Column(Integer)\n",
    "    age_group_name = Column(String)\n",
    "    cause_id = Column(Integer)\n",
    "    cause_name = Column(String)\n",
    "    year_id = Column(Integer)\n",
    "    metric_id = Column(Integer)\n",
    "    metric_name = Column(String)\n",
    "    infectious_syndrome = Column(String)\n",
    "    pathogen = Column(String)\n",
    "    antibiotic_class = Column(String)\n",
    "    counterfactual = Column(String)\n",
    "    val = Column(Float)\n",
    "    upper = Column(Float)\n",
    "    lower = Column(Float)"
   ]
  }
 ],
 "metadata": {
  "kernelspec": {
   "display_name": "base",
   "language": "python",
   "name": "python3"
  },
  "language_info": {
   "codemirror_mode": {
    "name": "ipython",
    "version": 3
   },
   "file_extension": ".py",
   "mimetype": "text/x-python",
   "name": "python",
   "nbconvert_exporter": "python",
   "pygments_lexer": "ipython3",
   "version": "3.9.13"
  },
  "orig_nbformat": 4
 },
 "nbformat": 4,
 "nbformat_minor": 2
}
